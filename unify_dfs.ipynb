{
 "cells": [
  {
   "cell_type": "code",
   "execution_count": 3,
   "metadata": {},
   "outputs": [],
   "source": [
    "import polars as pl\n",
    "import os\n",
    "from rich import print\n",
    "import numpy as np"
   ]
  },
  {
   "cell_type": "code",
   "execution_count": 6,
   "metadata": {},
   "outputs": [],
   "source": [
    "def test_correctness(*dfs: pl.DataFrame, df_concat: pl.DataFrame):\n",
    "    for col in dfs[0].columns:\n",
    "        for df in dfs:\n",
    "            assert col in df.columns\n",
    "\n",
    "    assert all(len(df.columns) == len(dfs[0].columns) for df in dfs)\n",
    "\n",
    "    for df in dfs:\n",
    "        for col in dfs[0].columns:\n",
    "            for val in df[col]:\n",
    "                assert val in df_concat[col]"
   ]
  },
  {
   "cell_type": "code",
   "execution_count": 3,
   "metadata": {},
   "outputs": [],
   "source": [
    "df1 = pl.read_csv(\"results/results_five1.csv\")\n",
    "df2 = pl.read_csv(\"results/results_five2.csv\")\n",
    "df3 = pl.read_csv(\"results/results_five3.csv\")\n",
    "df4 = pl.read_csv(\"results/results_five4.csv\")\n",
    "df5 = pl.read_csv(\"results/results_five5.csv\")"
   ]
  },
  {
   "cell_type": "code",
   "execution_count": 10,
   "metadata": {},
   "outputs": [],
   "source": [
    "test_correctness(df1, df2, df3, df4, df5, df_concat=pl.concat([df1, df2, df3, df4, df5], how=\"vertical\"))"
   ]
  },
  {
   "cell_type": "code",
   "execution_count": 13,
   "metadata": {},
   "outputs": [
    {
     "data": {
      "text/html": [
       "<div><style>\n",
       ".dataframe > thead > tr,\n",
       ".dataframe > tbody > tr {\n",
       "  text-align: right;\n",
       "  white-space: pre-wrap;\n",
       "}\n",
       "</style>\n",
       "<small>shape: (5, 43)</small><table border=\"1\" class=\"dataframe\"><thead><tr><th>last_val_loss</th><th>ul2</th><th>causal_denoisers</th><th>causal_divider</th><th>s_divider</th><th>r_divider</th><th>x_divider</th><th>randomize_denoiser_settings</th><th>randomize_mask_width</th><th>model_scale</th><th>depth</th><th>width</th><th>num_params</th><th>num_non_embedding_params</th><th>num_heads</th><th>linear_value</th><th>seed</th><th>run_num</th><th>max_epochs</th><th>max_steps</th><th>max_tokens</th><th>max_time_seconds</th><th>gpu_capacity_scalar</th><th>train_loss</th><th>train_pplx</th><th>train_acc</th><th>val_loss_causal</th><th>val_pplx_causal</th><th>val_acc_causal</th><th>val_loss_s</th><th>val_pplx_s</th><th>val_loss_r</th><th>val_pplx_r</th><th>val_loss_x</th><th>val_pplx_x</th><th>grad_norm</th><th>cumulative_time</th><th>tokens_seen</th><th>epoch</th><th>batch_size</th><th>seq_length</th><th>learning_rate</th><th>weight_decay</th></tr><tr><td>f64</td><td>bool</td><td>bool</td><td>f64</td><td>f64</td><td>f64</td><td>f64</td><td>bool</td><td>bool</td><td>f64</td><td>i64</td><td>i64</td><td>i64</td><td>i64</td><td>i64</td><td>bool</td><td>i64</td><td>i64</td><td>i64</td><td>i64</td><td>i64</td><td>i64</td><td>f64</td><td>str</td><td>str</td><td>str</td><td>str</td><td>str</td><td>str</td><td>str</td><td>str</td><td>str</td><td>str</td><td>str</td><td>str</td><td>str</td><td>str</td><td>str</td><td>str</td><td>str</td><td>str</td><td>str</td><td>str</td></tr></thead><tbody><tr><td>5.046473</td><td>true</td><td>true</td><td>1.0</td><td>1.0</td><td>1.0</td><td>1.0</td><td>false</td><td>false</td><td>5.231088</td><td>21</td><td>1024</td><td>240680981</td><td>137648149</td><td>1</td><td>false</td><td>1400</td><td>1</td><td>1</td><td>1000000000</td><td>1000000000000</td><td>1000000000</td><td>1.0</td><td>&quot;[10.9375, 6.78…</td><td>&quot;[56246.1370398…</td><td>&quot;[3.10019859171…</td><td>&quot;[10.1090002059…</td><td>&quot;[24562.9296875…</td><td>&quot;[0.08801431953…</td><td>&quot;[9.81851768493…</td><td>&quot;[18370.6835937…</td><td>&quot;[10.4322881698…</td><td>&quot;[33937.6875, 9…</td><td>&quot;[9.98623466491…</td><td>&quot;[21725.2011718…</td><td>&quot;[51.6529486471…</td><td>&quot;[0.0, 1.440968…</td><td>&quot;[32256, 354816…</td><td>&quot;[0.00027062041…</td><td>&quot;[1008, 1008, 1…</td><td>&quot;[32, 32, 32, 3…</td><td>&quot;[2.29546614558…</td><td>&quot;[16.0, 0.00026…</td></tr><tr><td>4.925694</td><td>true</td><td>true</td><td>1.0</td><td>1.0</td><td>1.0</td><td>1.0</td><td>false</td><td>false</td><td>5.231088</td><td>21</td><td>1024</td><td>240680981</td><td>137648149</td><td>1</td><td>false</td><td>1401</td><td>2</td><td>1</td><td>1000000000</td><td>1000000000000</td><td>1000000000</td><td>1.0</td><td>&quot;[10.9375, 6.90…</td><td>&quot;[56246.1370398…</td><td>&quot;[0.00012400794…</td><td>&quot;[10.0849971771…</td><td>&quot;[23980.3652343…</td><td>&quot;[0.09369140118…</td><td>&quot;[9.83470439910…</td><td>&quot;[18670.4628906…</td><td>&quot;[10.5511207580…</td><td>&quot;[38219.9882812…</td><td>&quot;[10.0347700119…</td><td>&quot;[22805.6484375…</td><td>&quot;[55.0034685912…</td><td>&quot;[0.0, 1.152156…</td><td>&quot;[32256, 354816…</td><td>&quot;[0.00027062041…</td><td>&quot;[1008, 1008, 1…</td><td>&quot;[32, 32, 32, 3…</td><td>&quot;[2.29546614558…</td><td>&quot;[16.0, 0.00018…</td></tr><tr><td>5.016616</td><td>true</td><td>true</td><td>1.0</td><td>1.0</td><td>1.0</td><td>1.0</td><td>false</td><td>false</td><td>5.231088</td><td>21</td><td>1024</td><td>240680981</td><td>137648149</td><td>1</td><td>false</td><td>1402</td><td>3</td><td>1</td><td>1000000000</td><td>1000000000000</td><td>1000000000</td><td>1.0</td><td>&quot;[10.9375, 6.93…</td><td>&quot;[56246.1370398…</td><td>&quot;[0.0, 0.166883…</td><td>&quot;[10.0769062042…</td><td>&quot;[23787.1230468…</td><td>&quot;[0.09380859881…</td><td>&quot;[9.82087230682…</td><td>&quot;[18413.9902343…</td><td>&quot;[10.4521389007…</td><td>&quot;[34618.109375,…</td><td>&quot;[9.98587799072…</td><td>&quot;[21717.453125,…</td><td>&quot;[51.7753785515…</td><td>&quot;[0.0, 1.148848…</td><td>&quot;[32256, 354816…</td><td>&quot;[0.00027062041…</td><td>&quot;[1008, 1008, 1…</td><td>&quot;[32, 32, 32, 3…</td><td>&quot;[2.29546614558…</td><td>&quot;[16.0, 0.00014…</td></tr><tr><td>4.956405</td><td>true</td><td>true</td><td>1.0</td><td>1.0</td><td>1.0</td><td>1.0</td><td>false</td><td>false</td><td>5.231088</td><td>21</td><td>1024</td><td>240680981</td><td>137648149</td><td>1</td><td>false</td><td>1403</td><td>4</td><td>1</td><td>1000000000</td><td>1000000000000</td><td>1000000000</td><td>1.0</td><td>&quot;[10.9375, 6.78…</td><td>&quot;[56246.1370398…</td><td>&quot;[0.0, 0.164310…</td><td>&quot;[10.1002397537…</td><td>&quot;[24348.6875, 8…</td><td>&quot;[0.08899086713…</td><td>&quot;[9.82324314117…</td><td>&quot;[18457.6972656…</td><td>&quot;[10.4368944168…</td><td>&quot;[34094.375, 10…</td><td>&quot;[9.99544334411…</td><td>&quot;[21926.1855468…</td><td>&quot;[52.5373951479…</td><td>&quot;[0.0, 1.154779…</td><td>&quot;[32256, 354816…</td><td>&quot;[0.00027062041…</td><td>&quot;[1008, 1008, 1…</td><td>&quot;[32, 32, 32, 3…</td><td>&quot;[2.29546614558…</td><td>&quot;[16.0, 0.00023…</td></tr><tr><td>5.013802</td><td>true</td><td>true</td><td>1.0</td><td>1.0</td><td>1.0</td><td>1.0</td><td>false</td><td>false</td><td>5.231088</td><td>21</td><td>1024</td><td>240680981</td><td>137648149</td><td>1</td><td>false</td><td>1404</td><td>5</td><td>1</td><td>1000000000</td><td>1000000000000</td><td>1000000000</td><td>1.0</td><td>&quot;[10.9375, 6.87…</td><td>&quot;[56246.1370398…</td><td>&quot;[6.20039718342…</td><td>&quot;[10.0793027877…</td><td>&quot;[23844.1992187…</td><td>&quot;[0.08975262194…</td><td>&quot;[9.82155323028…</td><td>&quot;[18426.5332031…</td><td>&quot;[10.4614763259…</td><td>&quot;[34942.8671875…</td><td>&quot;[9.99723815917…</td><td>&quot;[21965.5742187…</td><td>&quot;[52.0701333236…</td><td>&quot;[0.0, 1.151287…</td><td>&quot;[32256, 354816…</td><td>&quot;[0.00027062041…</td><td>&quot;[1008, 1008, 1…</td><td>&quot;[32, 32, 32, 3…</td><td>&quot;[2.29546614558…</td><td>&quot;[16.0, 0.00020…</td></tr></tbody></table></div>"
      ],
      "text/plain": [
       "shape: (5, 43)\n",
       "┌────────────┬──────┬────────────┬────────────┬───┬────────────┬───────────┬───────────┬───────────┐\n",
       "│ last_val_l ┆ ul2  ┆ causal_den ┆ causal_div ┆ … ┆ batch_size ┆ seq_lengt ┆ learning_ ┆ weight_de │\n",
       "│ oss        ┆ ---  ┆ oisers     ┆ ider       ┆   ┆ ---        ┆ h         ┆ rate      ┆ cay       │\n",
       "│ ---        ┆ bool ┆ ---        ┆ ---        ┆   ┆ str        ┆ ---       ┆ ---       ┆ ---       │\n",
       "│ f64        ┆      ┆ bool       ┆ f64        ┆   ┆            ┆ str       ┆ str       ┆ str       │\n",
       "╞════════════╪══════╪════════════╪════════════╪═══╪════════════╪═══════════╪═══════════╪═══════════╡\n",
       "│ 5.046473   ┆ true ┆ true       ┆ 1.0        ┆ … ┆ [1008,     ┆ [32, 32,  ┆ [2.295466 ┆ [16.0,    │\n",
       "│            ┆      ┆            ┆            ┆   ┆ 1008,      ┆ 32, 32,   ┆ 145584675 ┆ 0.0002601 │\n",
       "│            ┆      ┆            ┆            ┆   ┆ 1008,      ┆ 32, 32,   ┆ 8e-05,    ┆ 372567451 │\n",
       "│            ┆      ┆            ┆            ┆   ┆ 1008,      ┆ 32, 32]   ┆ 0.00013…  ┆ 7186, 0…  │\n",
       "│            ┆      ┆            ┆            ┆   ┆ 1008, 1…   ┆           ┆           ┆           │\n",
       "│ 4.925694   ┆ true ┆ true       ┆ 1.0        ┆ … ┆ [1008,     ┆ [32, 32,  ┆ [2.295466 ┆ [16.0,    │\n",
       "│            ┆      ┆            ┆            ┆   ┆ 1008,      ┆ 32, 32,   ┆ 145584675 ┆ 0.0001825 │\n",
       "│            ┆      ┆            ┆            ┆   ┆ 1008,      ┆ 32, 32,   ┆ 8e-05,    ┆ 702365252 │\n",
       "│            ┆      ┆            ┆            ┆   ┆ 1008,      ┆ 32, 32]   ┆ 0.00013…  ┆ 899, 0.…  │\n",
       "│            ┆      ┆            ┆            ┆   ┆ 1008, 1…   ┆           ┆           ┆           │\n",
       "│ 5.016616   ┆ true ┆ true       ┆ 1.0        ┆ … ┆ [1008,     ┆ [32, 32,  ┆ [2.295466 ┆ [16.0,    │\n",
       "│            ┆      ┆            ┆            ┆   ┆ 1008,      ┆ 32, 32,   ┆ 145584675 ┆ 0.0001491 │\n",
       "│            ┆      ┆            ┆            ┆   ┆ 1008,      ┆ 32, 32,   ┆ 8e-05,    ┆ 282541812 │\n",
       "│            ┆      ┆            ┆            ┆   ┆ 1008,      ┆ 32, 32]   ┆ 0.00013…  ┆ 6647, 0…  │\n",
       "│            ┆      ┆            ┆            ┆   ┆ 1008, 1…   ┆           ┆           ┆           │\n",
       "│ 4.956405   ┆ true ┆ true       ┆ 1.0        ┆ … ┆ [1008,     ┆ [32, 32,  ┆ [2.295466 ┆ [16.0,    │\n",
       "│            ┆      ┆            ┆            ┆   ┆ 1008,      ┆ 32, 32,   ┆ 145584675 ┆ 0.0002351 │\n",
       "│            ┆      ┆            ┆            ┆   ┆ 1008,      ┆ 32, 32,   ┆ 8e-05,    ┆ 080686321 │\n",
       "│            ┆      ┆            ┆            ┆   ┆ 1008,      ┆ 32, 32]   ┆ 0.00013…  ┆ 402, 0.…  │\n",
       "│            ┆      ┆            ┆            ┆   ┆ 1008, 1…   ┆           ┆           ┆           │\n",
       "│ 5.013802   ┆ true ┆ true       ┆ 1.0        ┆ … ┆ [1008,     ┆ [32, 32,  ┆ [2.295466 ┆ [16.0,    │\n",
       "│            ┆      ┆            ┆            ┆   ┆ 1008,      ┆ 32, 32,   ┆ 145584675 ┆ 0.0002020 │\n",
       "│            ┆      ┆            ┆            ┆   ┆ 1008,      ┆ 32, 32,   ┆ 8e-05,    ┆ 063401878 │\n",
       "│            ┆      ┆            ┆            ┆   ┆ 1008,      ┆ 32, 32]   ┆ 0.00013…  ┆ 2275, 0…  │\n",
       "│            ┆      ┆            ┆            ┆   ┆ 1008, 1…   ┆           ┆           ┆           │\n",
       "└────────────┴──────┴────────────┴────────────┴───┴────────────┴───────────┴───────────┴───────────┘"
      ]
     },
     "execution_count": 13,
     "metadata": {},
     "output_type": "execute_result"
    }
   ],
   "source": [
    "df = pl.concat([df1, df2, df3, df4, df5])\n",
    "df.head(5)"
   ]
  },
  {
   "cell_type": "code",
   "execution_count": 14,
   "metadata": {},
   "outputs": [],
   "source": [
    "df.write_csv(\"results/results_five.csv\")"
   ]
  },
  {
   "cell_type": "markdown",
   "metadata": {},
   "source": [
    "## Unifiy experiments_seven\n",
    "\n",
    "TODO: alternate_denoisers only in 10-12! &rarr; add to the others first"
   ]
  },
  {
   "cell_type": "code",
   "execution_count": 4,
   "metadata": {},
   "outputs": [],
   "source": [
    "files = [f for f in os.listdir(\"results\") if \"seven\" in f]\n",
    "files.remove(\"results_seven.csv\")\n",
    "files.sort(key=lambda x: int(x.split(\"seven\")[1].split(\".csv\")[0]))\n",
    "dfs = [pl.read_csv(f\"results/{f}\") for f in files]\n",
    "\n",
    "def add_alternate_denoisers_column(df: pl.DataFrame):\n",
    "    if \"progressive_tasks\" in df.columns:  # added last -> if df has it, it has the others, too\n",
    "        return df\n",
    "    \n",
    "    # To move the column to the proper place, we first split the df after 'alternate_denoisers' column\n",
    "    df1 = df.select(df.columns[:df.columns.index(\"alternate_denoisers\")+1])\n",
    "    df2 = df.select(df.columns[df.columns.index(\"alternate_denoisers\")+1:])\n",
    "\n",
    "    column = pl.Series([False for _ in range(len(df1))]).alias(\"progressive_tasks\")\n",
    "    df1 = df1.with_columns(column)\n",
    "    df = pl.concat([df1, df2], how=\"horizontal\")\n",
    "    \n",
    "    if \"noncausal_masking\" in df.columns:\n",
    "        return df\n",
    "    \n",
    "    # To move the column to the proper place, we first split the df after 'causal_denoisers' column\n",
    "    df1 = df.select(df.columns[:df.columns.index(\"causal_denoisers\")+1])\n",
    "    df2 = df.select(df.columns[df.columns.index(\"causal_denoisers\")+1:])\n",
    "\n",
    "    column = pl.Series([False for _ in range(len(df1))]).alias(\"noncausal_masking\")\n",
    "    df1 = df1.with_columns(column)\n",
    "    df = pl.concat([df1, df2], how=\"horizontal\")\n",
    "\n",
    "    if \"alternate_denoisers\" in df.columns:\n",
    "        return df\n",
    "    \n",
    "    # To move the column to the proper place, we first split the df after 'no_special_tokens' column\n",
    "    df1 = df.select(df.columns[:df.columns.index(\"no_special_tokens\")+1])\n",
    "    df2 = df.select(df.columns[df.columns.index(\"no_special_tokens\")+1:])\n",
    "\n",
    "    column = pl.Series([False for _ in range(len(df1))]).alias(\"alternate_denoisers\")\n",
    "    df1 = df1.with_columns(column)\n",
    "    return pl.concat([df1, df2], how=\"horizontal\")\n",
    "\n",
    "\n",
    "dfs = [add_alternate_denoisers_column(df) for df in dfs]\n",
    "df = pl.concat(dfs)\n",
    "for col in (\"causal_divider\", \"s_divider\", \"r_divider\", \"x_divider\"):\n",
    "    column =  pl.Series(col, np.where(df[col].to_numpy() == 1000.0, 0.0, df[col].to_numpy()))\n",
    "    df = df.with_columns(column.alias(col))\n",
    "\n",
    "df.write_csv(\"results/results_seven.csv\")"
   ]
  }
 ],
 "metadata": {
  "kernelspec": {
   "display_name": "attn",
   "language": "python",
   "name": "python3"
  },
  "language_info": {
   "codemirror_mode": {
    "name": "ipython",
    "version": 3
   },
   "file_extension": ".py",
   "mimetype": "text/x-python",
   "name": "python",
   "nbconvert_exporter": "python",
   "pygments_lexer": "ipython3",
   "version": "3.11.7"
  }
 },
 "nbformat": 4,
 "nbformat_minor": 2
}
