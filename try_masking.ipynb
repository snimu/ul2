{
 "cells": [
  {
   "cell_type": "code",
   "execution_count": 3,
   "metadata": {},
   "outputs": [],
   "source": [
    "import torch\n",
    "from rich import print\n",
    "import einops\n",
    "import math"
   ]
  },
  {
   "cell_type": "code",
   "execution_count": 17,
   "metadata": {},
   "outputs": [],
   "source": [
    "x = einops.repeat(torch.arange(20), \"length -> batch length\", batch=3)"
   ]
  },
  {
   "cell_type": "code",
   "execution_count": 5,
   "metadata": {},
   "outputs": [],
   "source": [
    "X_DENOISING_TOKEN = 100\n",
    "MASK_TOKEN = -1"
   ]
  },
  {
   "cell_type": "code",
   "execution_count": 31,
   "metadata": {},
   "outputs": [
    {
     "data": {
      "text/plain": [
       "(tensor([[100,   0,   1,   2,   3,   4,   5,   6,   7,   8,   9,  10,  11,  12,\n",
       "           13,  -1,  -1,  -1,  -1,  -1],\n",
       "         [100,   0,  -1,  -1,  -1,  -1,   5,   6,   7,   8,   9,  -1,  -1,  -1,\n",
       "           -1,  14,  15,  16,  17,  18],\n",
       "         [100,   0,  -1,  -1,  -1,  -1,   5,   6,   7,   8,   9,  10,  11,  12,\n",
       "           13,  -1,  -1,  -1,  -1,  18]]),\n",
       " tensor([[100,   0,   1,   2,   3,   4,   5,   6,   7,   8,   9,  10,  11,  12,\n",
       "           13,  14,  15,  16,  17,  18],\n",
       "         [100,   0,   1,   2,   3,   4,   5,   6,   7,   8,   9,  10,  11,  12,\n",
       "           13,  14,  15,  16,  17,  18],\n",
       "         [100,   0,   1,   2,   3,   4,   5,   6,   7,   8,   9,  10,  11,  12,\n",
       "           13,  14,  15,  16,  17,  18]]))"
      ]
     },
     "execution_count": 31,
     "metadata": {},
     "output_type": "execute_result"
    }
   ],
   "source": [
    "@torch.no_grad()\n",
    "def mask_spans(\n",
    "    sequence: torch.Tensor,\n",
    "    mask_width: int,\n",
    "    num_masks: int,\n",
    "    max_percentage_masked: float,\n",
    ") -> tuple[torch.Tensor, torch.Tensor]:\n",
    "    targets = sequence.roll(1)\n",
    "    targets[:, 0] = X_DENOISING_TOKEN\n",
    "\n",
    "    num_masks = min(num_masks, math.floor(max_percentage_masked * sequence.shape[-1] / mask_width))\n",
    "\n",
    "    batch_size, seq_length = sequence.shape\n",
    "    mask = torch.randint(0, seq_length - mask_width + 1, (batch_size, num_masks))\n",
    "    \n",
    "    # Create a tensor to hold the mask\n",
    "    mask_tensor = torch.zeros_like(sequence)\n",
    "    \n",
    "    # Create a range for the mask width\n",
    "    width_range = torch.arange(mask_width).unsqueeze(0).unsqueeze(0)  # Shape: (1, 1, mask_width)\n",
    "    \n",
    "    # Expand the mask to the desired width\n",
    "    mask_positions = mask.unsqueeze(-1) + width_range  # Shape: (batch_size, num_masks, mask_width)\n",
    "    \n",
    "    # Clip the positions to stay within sequence bounds\n",
    "    mask_positions = mask_positions.clamp(0, seq_length - 1)\n",
    "    \n",
    "    # Scatter the mask positions into the mask tensor\n",
    "    mask_tensor.scatter_(1, mask_positions.view(batch_size, -1), 1)\n",
    "\n",
    "    # Apply the mask to the sequence\n",
    "    inputs = sequence.masked_fill(mask_tensor.bool(), MASK_TOKEN)\n",
    "\n",
    "    # Add task token\n",
    "    inputs = inputs.roll(1, dims=-1)\n",
    "    inputs[:, 0] = X_DENOISING_TOKEN\n",
    "\n",
    "    return inputs, targets\n",
    "\n",
    "mask_spans(x, 4, 2, 0.8)\n"
   ]
  }
 ],
 "metadata": {
  "kernelspec": {
   "display_name": "attn",
   "language": "python",
   "name": "python3"
  },
  "language_info": {
   "codemirror_mode": {
    "name": "ipython",
    "version": 3
   },
   "file_extension": ".py",
   "mimetype": "text/x-python",
   "name": "python",
   "nbconvert_exporter": "python",
   "pygments_lexer": "ipython3",
   "version": "3.11.7"
  }
 },
 "nbformat": 4,
 "nbformat_minor": 2
}
